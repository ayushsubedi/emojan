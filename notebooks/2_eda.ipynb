{
 "cells": [
  {
   "cell_type": "code",
   "execution_count": 1,
   "metadata": {},
   "outputs": [],
   "source": [
    "import pandas as pd"
   ]
  },
  {
   "cell_type": "code",
   "execution_count": 19,
   "metadata": {},
   "outputs": [],
   "source": [
    "df = pd.read_csv(\"../datasets/merged.csv\", lineterminator='\\n', parse_dates=['created_at'])"
   ]
  },
  {
   "cell_type": "code",
   "execution_count": 20,
   "metadata": {},
   "outputs": [
    {
     "data": {
      "text/plain": [
       "['id', 'created_at', 'username', 'tweet', 'likes_count', 'emoji']"
      ]
     },
     "execution_count": 20,
     "metadata": {},
     "output_type": "execute_result"
    }
   ],
   "source": [
    "list(df)"
   ]
  },
  {
   "cell_type": "code",
   "execution_count": 21,
   "metadata": {},
   "outputs": [
    {
     "data": {
      "text/plain": [
       "ms_madhur          1433\n",
       "sristee44          1121\n",
       "beingsamikshya      871\n",
       "anuskashresthax     618\n",
       "nepalplanettrek     594\n",
       "scousergirl         572\n",
       "dreamingdr          569\n",
       "nepaligentleman     476\n",
       "itsme_shivangi      433\n",
       "iamnabinraj75       410\n",
       "sim_shrestha        402\n",
       "milan_pu1           353\n",
       "raunakbasnet1       332\n",
       "thulokanxo          325\n",
       "chetan_karki        302\n",
       "saampokhrel         301\n",
       "mongolianheartk     300\n",
       "tenzintsetenbhu     290\n",
       "rana1997rohit       275\n",
       "fatyangri           256\n",
       "Name: username, dtype: int64"
      ]
     },
     "execution_count": 21,
     "metadata": {},
     "output_type": "execute_result"
    }
   ],
   "source": [
    "df.username.value_counts().head(20)"
   ]
  },
  {
   "cell_type": "code",
   "execution_count": 22,
   "metadata": {},
   "outputs": [
    {
     "data": {
      "text/plain": [
       "😂     7576\n",
       "😊     4016\n",
       "😍     3781\n",
       "😁     3482\n",
       "🇳🇵    2785\n",
       "😎     2270\n",
       "❤️    2233\n",
       "🙏     2122\n",
       "😉     2000\n",
       "😜     1463\n",
       "😘     1432\n",
       "😋     1241\n",
       "💕     1173\n",
       "😄     1095\n",
       "👍     1001\n",
       "👌      730\n",
       "😭      637\n",
       "😏      554\n",
       "✌️     505\n",
       "😒      483\n",
       "Name: emoji, dtype: int64"
      ]
     },
     "execution_count": 22,
     "metadata": {},
     "output_type": "execute_result"
    }
   ],
   "source": [
    "df.emoji.value_counts().head(20)"
   ]
  },
  {
   "cell_type": "code",
   "execution_count": 23,
   "metadata": {},
   "outputs": [
    {
     "data": {
      "text/plain": [
       "Timestamp('2012-01-28 07:24:20+0545', tz='pytz.FixedOffset(345)')"
      ]
     },
     "execution_count": 23,
     "metadata": {},
     "output_type": "execute_result"
    }
   ],
   "source": [
    "df.created_at.min()"
   ]
  },
  {
   "cell_type": "code",
   "execution_count": 28,
   "metadata": {},
   "outputs": [
    {
     "data": {
      "text/plain": [
       "created_at\n",
       "2012-01-31 00:00:00+05:45      2\n",
       "2012-02-29 00:00:00+05:45     16\n",
       "2012-03-31 00:00:00+05:45     13\n",
       "2012-04-30 00:00:00+05:45      3\n",
       "2012-05-31 00:00:00+05:45     11\n",
       "                            ... \n",
       "2021-01-31 00:00:00+05:45    212\n",
       "2021-02-28 00:00:00+05:45    134\n",
       "2021-03-31 00:00:00+05:45    183\n",
       "2021-04-30 00:00:00+05:45    160\n",
       "2021-05-31 00:00:00+05:45    119\n",
       "Freq: M, Name: id, Length: 113, dtype: int64"
      ]
     },
     "execution_count": 28,
     "metadata": {},
     "output_type": "execute_result"
    }
   ],
   "source": [
    "df.set_index('created_at').resample('M')['id'].count()"
   ]
  },
  {
   "cell_type": "code",
   "execution_count": 29,
   "metadata": {},
   "outputs": [
    {
     "data": {
      "text/plain": [
       "<AxesSubplot:xlabel='created_at'>"
      ]
     },
     "execution_count": 29,
     "metadata": {},
     "output_type": "execute_result"
    },
    {
     "data": {
      "image/png": "[encoded data removed]",
      "text/plain": [
       "<Figure size 432x288 with 1 Axes>"
      ]
     },
     "metadata": {
      "needs_background": "light"
     },
     "output_type": "display_data"
    }
   ],
   "source": [
    "df.set_index('created_at').resample('M')['id'].count().plot()"
   ]
  },
  {
   "cell_type": "code",
   "execution_count": 30,
   "metadata": {},
   "outputs": [
    {
     "data": {
      "text/html": [
       "<div>\n",
       "<style scoped>\n",
       "    .dataframe tbody tr th:only-of-type {\n",
       "        vertical-align: middle;\n",
       "    }\n",
       "\n",
       "    .dataframe tbody tr th {\n",
       "        vertical-align: top;\n",
       "    }\n",
       "\n",
       "    .dataframe thead th {\n",
       "        text-align: right;\n",
       "    }\n",
       "</style>\n",
       "<table border=\"1\" class=\"dataframe\">\n",
       "  <thead>\n",
       "    <tr style=\"text-align: right;\">\n",
       "      <th></th>\n",
       "      <th>id</th>\n",
       "      <th>created_at</th>\n",
       "      <th>username</th>\n",
       "      <th>tweet</th>\n",
       "      <th>likes_count</th>\n",
       "      <th>emoji</th>\n",
       "    </tr>\n",
       "  </thead>\n",
       "  <tbody>\n",
       "    <tr>\n",
       "      <th>0</th>\n",
       "      <td>1398437418768818176</td>\n",
       "      <td>2021-05-29 06:18:57+05:45</td>\n",
       "      <td>dendikapan</td>\n",
       "      <td>शुभ बिहानी ☕️☕️ शुभदिनकाे कामना🙏😷👌🇳🇵💞 Hopefull...</td>\n",
       "      <td>3</td>\n",
       "      <td>👌</td>\n",
       "    </tr>\n",
       "    <tr>\n",
       "      <th>1</th>\n",
       "      <td>1397792077149216769</td>\n",
       "      <td>2021-05-27 11:34:35+05:45</td>\n",
       "      <td>dendikapan</td>\n",
       "      <td>@damanbro66 Yes I like it 👌so much your post  ...</td>\n",
       "      <td>0</td>\n",
       "      <td>👌</td>\n",
       "    </tr>\n",
       "    <tr>\n",
       "      <th>2</th>\n",
       "      <td>1397341721566990336</td>\n",
       "      <td>2021-05-26 05:45:02+05:45</td>\n",
       "      <td>dendikapan</td>\n",
       "      <td>@KiranCh77 Really nice 👌thanks for sharing 👌  ...</td>\n",
       "      <td>0</td>\n",
       "      <td>👌</td>\n",
       "    </tr>\n",
       "    <tr>\n",
       "      <th>3</th>\n",
       "      <td>1394863068035813379</td>\n",
       "      <td>2021-05-19 09:35:45+05:45</td>\n",
       "      <td>iammuhnaj</td>\n",
       "      <td>It's still Bull season👌 @ 𝙃𝙊𝙈𝙀  https://t.co/O...</td>\n",
       "      <td>1</td>\n",
       "      <td>👌</td>\n",
       "    </tr>\n",
       "    <tr>\n",
       "      <th>4</th>\n",
       "      <td>1393821979032133635</td>\n",
       "      <td>2021-05-16 12:38:50+05:45</td>\n",
       "      <td>chetan_karki</td>\n",
       "      <td>#just #fun with #baby #myrahsofkarki 😊❤️ looki...</td>\n",
       "      <td>0</td>\n",
       "      <td>👌</td>\n",
       "    </tr>\n",
       "    <tr>\n",
       "      <th>...</th>\n",
       "      <td>...</td>\n",
       "      <td>...</td>\n",
       "      <td>...</td>\n",
       "      <td>...</td>\n",
       "      <td>...</td>\n",
       "      <td>...</td>\n",
       "    </tr>\n",
       "    <tr>\n",
       "      <th>45362</th>\n",
       "      <td>389751359874289664</td>\n",
       "      <td>2013-10-14 19:40:40+05:45</td>\n",
       "      <td>ashmoo_moo</td>\n",
       "      <td>#littleone #cuteness #dashain #tika #sister #c...</td>\n",
       "      <td>0</td>\n",
       "      <td>❤️</td>\n",
       "    </tr>\n",
       "    <tr>\n",
       "      <th>45363</th>\n",
       "      <td>389704517815902208</td>\n",
       "      <td>2013-10-14 16:34:32+05:45</td>\n",
       "      <td>ashmoo_moo</td>\n",
       "      <td>Baba. Prajjwal Dai. ❤️ #dashain #tika #family ...</td>\n",
       "      <td>0</td>\n",
       "      <td>❤️</td>\n",
       "    </tr>\n",
       "    <tr>\n",
       "      <th>45364</th>\n",
       "      <td>387917234490048512</td>\n",
       "      <td>2013-10-09 18:12:30+05:45</td>\n",
       "      <td>ashmoo_moo</td>\n",
       "      <td>#brother #cousins #mamaghar #nagpokhari #morni...</td>\n",
       "      <td>0</td>\n",
       "      <td>❤️</td>\n",
       "    </tr>\n",
       "    <tr>\n",
       "      <th>45365</th>\n",
       "      <td>387542385145954304</td>\n",
       "      <td>2013-10-08 17:22:59+05:45</td>\n",
       "      <td>ashmoo_moo</td>\n",
       "      <td>#cuteness #babysister #cousins #smile ❤️😘💋 @ M...</td>\n",
       "      <td>0</td>\n",
       "      <td>❤️</td>\n",
       "    </tr>\n",
       "    <tr>\n",
       "      <th>45366</th>\n",
       "      <td>386357639460179968</td>\n",
       "      <td>2013-10-05 10:55:14+05:45</td>\n",
       "      <td>ashmoo_moo</td>\n",
       "      <td>on our way back homeeeeee.... ❤️😘 #lastnight #...</td>\n",
       "      <td>0</td>\n",
       "      <td>❤️</td>\n",
       "    </tr>\n",
       "  </tbody>\n",
       "</table>\n",
       "<p>45367 rows × 6 columns</p>\n",
       "</div>"
      ],
      "text/plain": [
       "                        id                created_at      username  \\\n",
       "0      1398437418768818176 2021-05-29 06:18:57+05:45    dendikapan   \n",
       "1      1397792077149216769 2021-05-27 11:34:35+05:45    dendikapan   \n",
       "2      1397341721566990336 2021-05-26 05:45:02+05:45    dendikapan   \n",
       "3      1394863068035813379 2021-05-19 09:35:45+05:45     iammuhnaj   \n",
       "4      1393821979032133635 2021-05-16 12:38:50+05:45  chetan_karki   \n",
       "...                    ...                       ...           ...   \n",
       "45362   389751359874289664 2013-10-14 19:40:40+05:45    ashmoo_moo   \n",
       "45363   389704517815902208 2013-10-14 16:34:32+05:45    ashmoo_moo   \n",
       "45364   387917234490048512 2013-10-09 18:12:30+05:45    ashmoo_moo   \n",
       "45365   387542385145954304 2013-10-08 17:22:59+05:45    ashmoo_moo   \n",
       "45366   386357639460179968 2013-10-05 10:55:14+05:45    ashmoo_moo   \n",
       "\n",
       "                                                   tweet  likes_count emoji  \n",
       "0      शुभ बिहानी ☕️☕️ शुभदिनकाे कामना🙏😷👌🇳🇵💞 Hopefull...            3     👌  \n",
       "1      @damanbro66 Yes I like it 👌so much your post  ...            0     👌  \n",
       "2      @KiranCh77 Really nice 👌thanks for sharing 👌  ...            0     👌  \n",
       "3      It's still Bull season👌 @ 𝙃𝙊𝙈𝙀  https://t.co/O...            1     👌  \n",
       "4      #just #fun with #baby #myrahsofkarki 😊❤️ looki...            0     👌  \n",
       "...                                                  ...          ...   ...  \n",
       "45362  #littleone #cuteness #dashain #tika #sister #c...            0    ❤️  \n",
       "45363  Baba. Prajjwal Dai. ❤️ #dashain #tika #family ...            0    ❤️  \n",
       "45364  #brother #cousins #mamaghar #nagpokhari #morni...            0    ❤️  \n",
       "45365  #cuteness #babysister #cousins #smile ❤️😘💋 @ M...            0    ❤️  \n",
       "45366  on our way back homeeeeee.... ❤️😘 #lastnight #...            0    ❤️  \n",
       "\n",
       "[45367 rows x 6 columns]"
      ]
     },
     "execution_count": 30,
     "metadata": {},
     "output_type": "execute_result"
    }
   ],
   "source": [
    "df"
   ]
  },
  {
   "cell_type": "code",
   "execution_count": null,
   "metadata": {},
   "outputs": [],
   "source": []
  }
 ],
 "metadata": {
  "kernelspec": {
   "display_name": "Python 3",
   "language": "python",
   "name": "python3"
  },
  "language_info": {
   "codemirror_mode": {
    "name": "ipython",
    "version": 3
   },
   "file_extension": ".py",
   "mimetype": "text/x-python",
   "name": "python",
   "nbconvert_exporter": "python",
   "pygments_lexer": "ipython3",
   "version": "3.8.5"
  }
 },
 "nbformat": 4,
 "nbformat_minor": 4
}
