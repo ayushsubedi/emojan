{
 "cells": [
  {
   "cell_type": "code",
   "execution_count": 7,
   "metadata": {},
   "outputs": [],
   "source": [
    "import twint\n",
    "import pandas as pd\n",
    "import nest_asyncio\n",
    "nest_asyncio.apply()"
   ]
  },
  {
   "cell_type": "code",
   "execution_count": 6,
   "metadata": {},
   "outputs": [],
   "source": [
    "emoji_list = [\"💕\", \"😏\", \"😂\", \"❤️\", \"😍\", \"😒\", \"👌\", \"☺️\", \"😊\", \"😘\", \"😘\", \"😭\", \"😩\", \"😔\", \"😁\", \"😳\", \"👍\", \"✌️\", \"😉\", \"😌\", \"🙈\", \"😎\", \"😑\", \"😑\", \"😴\", \"😄\", \"😜\", \"😋\", \"😷\", \"🙏\", \"🇳🇵\", \"\"]"
   ]
  },
  {
   "cell_type": "code",
   "execution_count": 5,
   "metadata": {},
   "outputs": [
    {
     "name": "stdout",
     "output_type": "stream",
     "text": [
      "[!] No more data! Scraping will stop now.\n",
      "found 0 deleted tweets in this search.\n"
     ]
    }
   ],
   "source": [
    "for emoji in emoji_list:\n",
    "    c = twint.Config()\n",
    "    c.Search = emoji\n",
    "    c.Pandas = True\n",
    "    c.Store_csv = True\n",
    "    c.Output = emoji\n",
    "    c.Hide_output= True\n",
    "    c.Near= \"kathmandu\"\n",
    "    c.Since=\"2017-01-01\"\n",
    "    c.Until = \"2021-05-31\"\n",
    "    twint.run.Search(c)"
   ]
  },
  {
   "cell_type": "code",
   "execution_count": null,
   "metadata": {},
   "outputs": [],
   "source": []
  }
 ],
 "metadata": {
  "kernelspec": {
   "display_name": "Python 3",
   "language": "python",
   "name": "python3"
  },
  "language_info": {
   "codemirror_mode": {
    "name": "ipython",
    "version": 3
   },
   "file_extension": ".py",
   "mimetype": "text/x-python",
   "name": "python",
   "nbconvert_exporter": "python",
   "pygments_lexer": "ipython3",
   "version": "3.8.5"
  }
 },
 "nbformat": 4,
 "nbformat_minor": 4
}
