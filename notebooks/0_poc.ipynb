{
 "cells": [
  {
   "cell_type": "code",
   "execution_count": 9,
   "metadata": {},
   "outputs": [],
   "source": [
    "import twint\n",
    "import pandas as pd\n",
    "import nest_asyncio\n",
    "nest_asyncio.apply()"
   ]
  },
  {
   "cell_type": "code",
   "execution_count": 10,
   "metadata": {},
   "outputs": [],
   "source": [
    "emoji_list = ['😁',\n",
    " '😒',\n",
    " '😊',\n",
    " '😈',\n",
    " '🇳🇵',\n",
    " '😌',\n",
    " '☕',\n",
    " '👶',\n",
    " '👍',\n",
    " '😷',\n",
    " '👌',\n",
    " '🌞',\n",
    " '😑',\n",
    " '😉',\n",
    " '😍',\n",
    " '☺️',\n",
    " '😴',\n",
    " '😱',\n",
    " '🙏',\n",
    " '😘',\n",
    " '🙌',\n",
    " '😔',\n",
    " '😋',\n",
    " '😂',\n",
    " '😩',\n",
    " '💕',\n",
    " '😎',\n",
    " '😭',\n",
    " '😳',\n",
    " '😇',\n",
    " '😏',\n",
    " '😜',\n",
    " '☕️',\n",
    " '✌️',\n",
    " '🙈',\n",
    " '❤️',\n",
    " '😄',\n",
    " '💞']"
   ]
  },
  {
   "cell_type": "code",
   "execution_count": null,
   "metadata": {},
   "outputs": [],
   "source": [
    "for emoji in emoji_list:\n",
    "    c = twint.Config()\n",
    "    c.Search = emoji\n",
    "    c.Pandas = True\n",
    "    c.Store_csv = True\n",
    "    c.Output = emoji\n",
    "    c.Hide_output= True\n",
    "    c.Near= \"kathmandu\"\n",
    "    c.Since=\"2010-01-01\"\n",
    "    c.Until = \"2021-05-31\"\n",
    "    twint.run.Search(c)"
   ]
  }
 ],
 "metadata": {
  "kernelspec": {
   "display_name": "Python 3",
   "language": "python",
   "name": "python3"
  },
  "language_info": {
   "codemirror_mode": {
    "name": "ipython",
    "version": 3
   },
   "file_extension": ".py",
   "mimetype": "text/x-python",
   "name": "python",
   "nbconvert_exporter": "python",
   "pygments_lexer": "ipython3",
   "version": "3.8.5"
  }
 },
 "nbformat": 4,
 "nbformat_minor": 4
}
